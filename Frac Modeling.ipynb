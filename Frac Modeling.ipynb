{
 "cells": [
  {
   "cell_type": "markdown",
   "metadata": {},
   "source": [
    "# Capstone - Testing & Modeling"
   ]
  },
  {
   "cell_type": "markdown",
   "metadata": {},
   "source": [
    "## Brooke Nichols"
   ]
  },
  {
   "cell_type": "markdown",
   "metadata": {},
   "source": [
    "I'm going to first look at the general correlation of the feature variables against what will be the target variable, magnitude, to see if any of the features stick out. I will be running a stats model linear regression to pull out the coefficients and p-values to look for further statistical connection between the features and the target. Since the data for the target variable in this dataset is continuous I will be using a linear regression model to predict possible seismic activity around fracking oil wells in the Permian Basin. "
   ]
  },
  {
   "cell_type": "code",
   "execution_count": 1,
   "metadata": {},
   "outputs": [],
   "source": [
    "#bring in packages necessary to run this notebook\n",
    "import pandas as pd\n",
    "import numpy as np\n",
    "import matplotlib.pyplot as plt\n",
    "import seaborn as sns\n",
    "import statsmodels.api as sm\n",
    "from sklearn.preprocessing import StandardScaler\n",
    "from sklearn.preprocessing import MinMaxScaler\n",
    "from sklearn.model_selection import train_test_split\n",
    "from sklearn.preprocessing import OneHotEncoder\n",
    "from sklearn.linear_model import Ridge\n",
    "from sklearn.tree import DecisionTreeRegressor\n",
    "from sklearn.svm import SVR\n",
    "from sklearn.pipeline import Pipeline\n",
    "from sklearn.model_selection import GridSearchCV"
   ]
  },
  {
   "cell_type": "code",
   "execution_count": 2,
   "metadata": {},
   "outputs": [
    {
     "data": {
      "text/html": [
       "<div>\n",
       "<style scoped>\n",
       "    .dataframe tbody tr th:only-of-type {\n",
       "        vertical-align: middle;\n",
       "    }\n",
       "\n",
       "    .dataframe tbody tr th {\n",
       "        vertical-align: top;\n",
       "    }\n",
       "\n",
       "    .dataframe thead th {\n",
       "        text-align: right;\n",
       "    }\n",
       "</style>\n",
       "<table border=\"1\" class=\"dataframe\">\n",
       "  <thead>\n",
       "    <tr style=\"text-align: right;\">\n",
       "      <th></th>\n",
       "      <th>EventDate</th>\n",
       "      <th>EventTime</th>\n",
       "      <th>SeisLatitude</th>\n",
       "      <th>SeisLongitude</th>\n",
       "      <th>Magnitude</th>\n",
       "      <th>JobStartDate</th>\n",
       "      <th>JobEndDate</th>\n",
       "      <th>APINumber</th>\n",
       "      <th>WellName</th>\n",
       "      <th>OperatorName</th>\n",
       "      <th>FracLatitude</th>\n",
       "      <th>FracLongitude</th>\n",
       "      <th>CountyName</th>\n",
       "      <th>TVD</th>\n",
       "      <th>TotalBaseWaterVolume</th>\n",
       "      <th>TotalBaseNonWaterVolume</th>\n",
       "      <th>FederalWell</th>\n",
       "      <th>IngredientName</th>\n",
       "      <th>PercentHFJob</th>\n",
       "      <th>MassIngredient</th>\n",
       "    </tr>\n",
       "  </thead>\n",
       "  <tbody>\n",
       "    <tr>\n",
       "      <th>0</th>\n",
       "      <td>2020-09-10</td>\n",
       "      <td>03:29:25</td>\n",
       "      <td>31.6568</td>\n",
       "      <td>-104.3178</td>\n",
       "      <td>3.1</td>\n",
       "      <td>2020-08-07</td>\n",
       "      <td>2020-09-10</td>\n",
       "      <td>42301347900000</td>\n",
       "      <td>Roosterfish 53-2-43 LOV Unit 8H</td>\n",
       "      <td>Shell Oil Company affiliate</td>\n",
       "      <td>31.788461</td>\n",
       "      <td>-103.594571</td>\n",
       "      <td>Loving</td>\n",
       "      <td>11479.0</td>\n",
       "      <td>8455038.0</td>\n",
       "      <td>0.0</td>\n",
       "      <td>0</td>\n",
       "      <td>water</td>\n",
       "      <td>79.414839</td>\n",
       "      <td>7.051502e+07</td>\n",
       "    </tr>\n",
       "    <tr>\n",
       "      <th>1</th>\n",
       "      <td>2020-09-10</td>\n",
       "      <td>03:29:25</td>\n",
       "      <td>31.6568</td>\n",
       "      <td>-104.3178</td>\n",
       "      <td>3.1</td>\n",
       "      <td>2020-08-07</td>\n",
       "      <td>2020-09-10</td>\n",
       "      <td>42301347900000</td>\n",
       "      <td>Roosterfish 53-2-43 LOV Unit 8H</td>\n",
       "      <td>Shell Oil Company affiliate</td>\n",
       "      <td>31.788461</td>\n",
       "      <td>-103.594571</td>\n",
       "      <td>Loving</td>\n",
       "      <td>11479.0</td>\n",
       "      <td>8455038.0</td>\n",
       "      <td>0.0</td>\n",
       "      <td>0</td>\n",
       "      <td>glutaraldehyde</td>\n",
       "      <td>0.002363</td>\n",
       "      <td>2.097827e+03</td>\n",
       "    </tr>\n",
       "    <tr>\n",
       "      <th>2</th>\n",
       "      <td>2020-09-10</td>\n",
       "      <td>03:29:25</td>\n",
       "      <td>31.6568</td>\n",
       "      <td>-104.3178</td>\n",
       "      <td>3.1</td>\n",
       "      <td>2020-08-07</td>\n",
       "      <td>2020-09-10</td>\n",
       "      <td>42301347900000</td>\n",
       "      <td>Roosterfish 53-2-43 LOV Unit 8H</td>\n",
       "      <td>Shell Oil Company affiliate</td>\n",
       "      <td>31.788461</td>\n",
       "      <td>-103.594571</td>\n",
       "      <td>Loving</td>\n",
       "      <td>11479.0</td>\n",
       "      <td>8455038.0</td>\n",
       "      <td>0.0</td>\n",
       "      <td>0</td>\n",
       "      <td>formic acid</td>\n",
       "      <td>0.000004</td>\n",
       "      <td>3.786360e+00</td>\n",
       "    </tr>\n",
       "    <tr>\n",
       "      <th>3</th>\n",
       "      <td>2020-09-10</td>\n",
       "      <td>03:29:25</td>\n",
       "      <td>31.6568</td>\n",
       "      <td>-104.3178</td>\n",
       "      <td>3.1</td>\n",
       "      <td>2020-08-07</td>\n",
       "      <td>2020-09-10</td>\n",
       "      <td>42301347900000</td>\n",
       "      <td>Roosterfish 53-2-43 LOV Unit 8H</td>\n",
       "      <td>Shell Oil Company affiliate</td>\n",
       "      <td>31.788461</td>\n",
       "      <td>-103.594571</td>\n",
       "      <td>Loving</td>\n",
       "      <td>11479.0</td>\n",
       "      <td>8455038.0</td>\n",
       "      <td>0.0</td>\n",
       "      <td>0</td>\n",
       "      <td>cinnamaldehyde</td>\n",
       "      <td>0.000004</td>\n",
       "      <td>3.915100e+00</td>\n",
       "    </tr>\n",
       "    <tr>\n",
       "      <th>4</th>\n",
       "      <td>2020-09-10</td>\n",
       "      <td>03:29:25</td>\n",
       "      <td>31.6568</td>\n",
       "      <td>-104.3178</td>\n",
       "      <td>3.1</td>\n",
       "      <td>2020-08-07</td>\n",
       "      <td>2020-09-10</td>\n",
       "      <td>42301347900000</td>\n",
       "      <td>Roosterfish 53-2-43 LOV Unit 8H</td>\n",
       "      <td>Shell Oil Company affiliate</td>\n",
       "      <td>31.788461</td>\n",
       "      <td>-103.594571</td>\n",
       "      <td>Loving</td>\n",
       "      <td>11479.0</td>\n",
       "      <td>8455038.0</td>\n",
       "      <td>0.0</td>\n",
       "      <td>0</td>\n",
       "      <td>ethylene glycol</td>\n",
       "      <td>0.000012</td>\n",
       "      <td>1.082899e+01</td>\n",
       "    </tr>\n",
       "    <tr>\n",
       "      <th>...</th>\n",
       "      <td>...</td>\n",
       "      <td>...</td>\n",
       "      <td>...</td>\n",
       "      <td>...</td>\n",
       "      <td>...</td>\n",
       "      <td>...</td>\n",
       "      <td>...</td>\n",
       "      <td>...</td>\n",
       "      <td>...</td>\n",
       "      <td>...</td>\n",
       "      <td>...</td>\n",
       "      <td>...</td>\n",
       "      <td>...</td>\n",
       "      <td>...</td>\n",
       "      <td>...</td>\n",
       "      <td>...</td>\n",
       "      <td>...</td>\n",
       "      <td>...</td>\n",
       "      <td>...</td>\n",
       "      <td>...</td>\n",
       "    </tr>\n",
       "    <tr>\n",
       "      <th>430495</th>\n",
       "      <td>2016-02-20</td>\n",
       "      <td>07:53:53</td>\n",
       "      <td>31.2258</td>\n",
       "      <td>-103.3279</td>\n",
       "      <td>3.3</td>\n",
       "      <td>2016-01-04</td>\n",
       "      <td>2018-01-20</td>\n",
       "      <td>42389360250000</td>\n",
       "      <td>FRIO STATE UNIT 221-222W 1H</td>\n",
       "      <td>Primexx Operating Corporation</td>\n",
       "      <td>31.039300</td>\n",
       "      <td>-103.579921</td>\n",
       "      <td>Reeves</td>\n",
       "      <td>9922.0</td>\n",
       "      <td>24410160.0</td>\n",
       "      <td>0.0</td>\n",
       "      <td>0</td>\n",
       "      <td>methanol</td>\n",
       "      <td>0.013327</td>\n",
       "      <td>3.058400e+04</td>\n",
       "    </tr>\n",
       "    <tr>\n",
       "      <th>430496</th>\n",
       "      <td>2016-02-20</td>\n",
       "      <td>07:53:53</td>\n",
       "      <td>31.2258</td>\n",
       "      <td>-103.3279</td>\n",
       "      <td>3.3</td>\n",
       "      <td>2016-01-04</td>\n",
       "      <td>2018-01-20</td>\n",
       "      <td>42389360250000</td>\n",
       "      <td>FRIO STATE UNIT 221-222W 1H</td>\n",
       "      <td>Primexx Operating Corporation</td>\n",
       "      <td>31.039300</td>\n",
       "      <td>-103.579921</td>\n",
       "      <td>Reeves</td>\n",
       "      <td>9922.0</td>\n",
       "      <td>24410160.0</td>\n",
       "      <td>0.0</td>\n",
       "      <td>0</td>\n",
       "      <td>ethanol</td>\n",
       "      <td>0.074920</td>\n",
       "      <td>1.719280e+05</td>\n",
       "    </tr>\n",
       "    <tr>\n",
       "      <th>430497</th>\n",
       "      <td>2016-02-20</td>\n",
       "      <td>07:53:53</td>\n",
       "      <td>31.2258</td>\n",
       "      <td>-103.3279</td>\n",
       "      <td>3.3</td>\n",
       "      <td>2016-01-04</td>\n",
       "      <td>2018-01-20</td>\n",
       "      <td>42389360250000</td>\n",
       "      <td>FRIO STATE UNIT 221-222W 1H</td>\n",
       "      <td>Primexx Operating Corporation</td>\n",
       "      <td>31.039300</td>\n",
       "      <td>-103.579921</td>\n",
       "      <td>Reeves</td>\n",
       "      <td>9922.0</td>\n",
       "      <td>24410160.0</td>\n",
       "      <td>0.0</td>\n",
       "      <td>0</td>\n",
       "      <td>hydrochloric acid</td>\n",
       "      <td>0.255589</td>\n",
       "      <td>5.865300e+05</td>\n",
       "    </tr>\n",
       "    <tr>\n",
       "      <th>430498</th>\n",
       "      <td>2016-02-20</td>\n",
       "      <td>07:53:53</td>\n",
       "      <td>31.2258</td>\n",
       "      <td>-103.3279</td>\n",
       "      <td>3.3</td>\n",
       "      <td>2016-01-04</td>\n",
       "      <td>2018-01-20</td>\n",
       "      <td>42389360250000</td>\n",
       "      <td>FRIO STATE UNIT 221-222W 1H</td>\n",
       "      <td>Primexx Operating Corporation</td>\n",
       "      <td>31.039300</td>\n",
       "      <td>-103.579921</td>\n",
       "      <td>Reeves</td>\n",
       "      <td>9922.0</td>\n",
       "      <td>24410160.0</td>\n",
       "      <td>0.0</td>\n",
       "      <td>0</td>\n",
       "      <td>water</td>\n",
       "      <td>0.933877</td>\n",
       "      <td>2.143087e+06</td>\n",
       "    </tr>\n",
       "    <tr>\n",
       "      <th>430499</th>\n",
       "      <td>2016-02-20</td>\n",
       "      <td>07:53:53</td>\n",
       "      <td>31.2258</td>\n",
       "      <td>-103.3279</td>\n",
       "      <td>3.3</td>\n",
       "      <td>2016-01-04</td>\n",
       "      <td>2018-01-20</td>\n",
       "      <td>42389360250000</td>\n",
       "      <td>FRIO STATE UNIT 221-222W 1H</td>\n",
       "      <td>Primexx Operating Corporation</td>\n",
       "      <td>31.039300</td>\n",
       "      <td>-103.579921</td>\n",
       "      <td>Reeves</td>\n",
       "      <td>9922.0</td>\n",
       "      <td>24410160.0</td>\n",
       "      <td>0.0</td>\n",
       "      <td>0</td>\n",
       "      <td>water</td>\n",
       "      <td>88.287116</td>\n",
       "      <td>2.026037e+08</td>\n",
       "    </tr>\n",
       "  </tbody>\n",
       "</table>\n",
       "<p>430500 rows × 20 columns</p>\n",
       "</div>"
      ],
      "text/plain": [
       "         EventDate EventTime  SeisLatitude  SeisLongitude  Magnitude  \\\n",
       "0       2020-09-10  03:29:25       31.6568      -104.3178        3.1   \n",
       "1       2020-09-10  03:29:25       31.6568      -104.3178        3.1   \n",
       "2       2020-09-10  03:29:25       31.6568      -104.3178        3.1   \n",
       "3       2020-09-10  03:29:25       31.6568      -104.3178        3.1   \n",
       "4       2020-09-10  03:29:25       31.6568      -104.3178        3.1   \n",
       "...            ...       ...           ...            ...        ...   \n",
       "430495  2016-02-20  07:53:53       31.2258      -103.3279        3.3   \n",
       "430496  2016-02-20  07:53:53       31.2258      -103.3279        3.3   \n",
       "430497  2016-02-20  07:53:53       31.2258      -103.3279        3.3   \n",
       "430498  2016-02-20  07:53:53       31.2258      -103.3279        3.3   \n",
       "430499  2016-02-20  07:53:53       31.2258      -103.3279        3.3   \n",
       "\n",
       "       JobStartDate  JobEndDate       APINumber  \\\n",
       "0        2020-08-07  2020-09-10  42301347900000   \n",
       "1        2020-08-07  2020-09-10  42301347900000   \n",
       "2        2020-08-07  2020-09-10  42301347900000   \n",
       "3        2020-08-07  2020-09-10  42301347900000   \n",
       "4        2020-08-07  2020-09-10  42301347900000   \n",
       "...             ...         ...             ...   \n",
       "430495   2016-01-04  2018-01-20  42389360250000   \n",
       "430496   2016-01-04  2018-01-20  42389360250000   \n",
       "430497   2016-01-04  2018-01-20  42389360250000   \n",
       "430498   2016-01-04  2018-01-20  42389360250000   \n",
       "430499   2016-01-04  2018-01-20  42389360250000   \n",
       "\n",
       "                               WellName                   OperatorName  \\\n",
       "0       Roosterfish 53-2-43 LOV Unit 8H    Shell Oil Company affiliate   \n",
       "1       Roosterfish 53-2-43 LOV Unit 8H    Shell Oil Company affiliate   \n",
       "2       Roosterfish 53-2-43 LOV Unit 8H    Shell Oil Company affiliate   \n",
       "3       Roosterfish 53-2-43 LOV Unit 8H    Shell Oil Company affiliate   \n",
       "4       Roosterfish 53-2-43 LOV Unit 8H    Shell Oil Company affiliate   \n",
       "...                                 ...                            ...   \n",
       "430495      FRIO STATE UNIT 221-222W 1H  Primexx Operating Corporation   \n",
       "430496      FRIO STATE UNIT 221-222W 1H  Primexx Operating Corporation   \n",
       "430497      FRIO STATE UNIT 221-222W 1H  Primexx Operating Corporation   \n",
       "430498      FRIO STATE UNIT 221-222W 1H  Primexx Operating Corporation   \n",
       "430499      FRIO STATE UNIT 221-222W 1H  Primexx Operating Corporation   \n",
       "\n",
       "        FracLatitude  FracLongitude CountyName      TVD  TotalBaseWaterVolume  \\\n",
       "0          31.788461    -103.594571     Loving  11479.0             8455038.0   \n",
       "1          31.788461    -103.594571     Loving  11479.0             8455038.0   \n",
       "2          31.788461    -103.594571     Loving  11479.0             8455038.0   \n",
       "3          31.788461    -103.594571     Loving  11479.0             8455038.0   \n",
       "4          31.788461    -103.594571     Loving  11479.0             8455038.0   \n",
       "...              ...            ...        ...      ...                   ...   \n",
       "430495     31.039300    -103.579921     Reeves   9922.0            24410160.0   \n",
       "430496     31.039300    -103.579921     Reeves   9922.0            24410160.0   \n",
       "430497     31.039300    -103.579921     Reeves   9922.0            24410160.0   \n",
       "430498     31.039300    -103.579921     Reeves   9922.0            24410160.0   \n",
       "430499     31.039300    -103.579921     Reeves   9922.0            24410160.0   \n",
       "\n",
       "        TotalBaseNonWaterVolume  FederalWell     IngredientName  PercentHFJob  \\\n",
       "0                           0.0            0              water     79.414839   \n",
       "1                           0.0            0     glutaraldehyde      0.002363   \n",
       "2                           0.0            0        formic acid      0.000004   \n",
       "3                           0.0            0     cinnamaldehyde      0.000004   \n",
       "4                           0.0            0    ethylene glycol      0.000012   \n",
       "...                         ...          ...                ...           ...   \n",
       "430495                      0.0            0           methanol      0.013327   \n",
       "430496                      0.0            0            ethanol      0.074920   \n",
       "430497                      0.0            0  hydrochloric acid      0.255589   \n",
       "430498                      0.0            0              water      0.933877   \n",
       "430499                      0.0            0              water     88.287116   \n",
       "\n",
       "        MassIngredient  \n",
       "0         7.051502e+07  \n",
       "1         2.097827e+03  \n",
       "2         3.786360e+00  \n",
       "3         3.915100e+00  \n",
       "4         1.082899e+01  \n",
       "...                ...  \n",
       "430495    3.058400e+04  \n",
       "430496    1.719280e+05  \n",
       "430497    5.865300e+05  \n",
       "430498    2.143087e+06  \n",
       "430499    2.026037e+08  \n",
       "\n",
       "[430500 rows x 20 columns]"
      ]
     },
     "execution_count": 2,
     "metadata": {},
     "output_type": "execute_result"
    }
   ],
   "source": [
    "#read in cleaned data\n",
    "master = pd.read_csv('data/Master/master.csv', index_col = 0)\n",
    "master"
   ]
  },
  {
   "cell_type": "code",
   "execution_count": 3,
   "metadata": {
    "scrolled": true
   },
   "outputs": [
    {
     "data": {
      "image/png": "[encoded data removed]",
      "text/plain": [
       "<Figure size 432x288 with 1 Axes>"
      ]
     },
     "metadata": {
      "needs_background": "light"
     },
     "output_type": "display_data"
    }
   ],
   "source": [
    "#distribution of target variable\n",
    "plt.figure()\n",
    "plt.hist(master['Magnitude'])\n",
    "plt.show()"
   ]
  },
  {
   "cell_type": "markdown",
   "metadata": {},
   "source": [
    "Since my target variable distribution is skewed I will transform it using log to see how it effects my modeling.  "
   ]
  },
  {
   "cell_type": "code",
   "execution_count": 4,
   "metadata": {},
   "outputs": [],
   "source": [
    "#create a log target variable\n",
    "master['LogMag'] = np.log(master['Magnitude'])"
   ]
  },
  {
   "cell_type": "code",
   "execution_count": 5,
   "metadata": {
    "scrolled": false
   },
   "outputs": [
    {
     "data": {
      "image/png": "[encoded data removed]",
      "text/plain": [
       "<Figure size 432x288 with 1 Axes>"
      ]
     },
     "metadata": {
      "needs_background": "light"
     },
     "output_type": "display_data"
    }
   ],
   "source": [
    "#check the new target distribution\n",
    "plt.figure()\n",
    "plt.hist(master['LogMag'])\n",
    "plt.show()"
   ]
  },
  {
   "cell_type": "code",
   "execution_count": 6,
   "metadata": {},
   "outputs": [
    {
     "name": "stdout",
     "output_type": "stream",
     "text": [
      "<class 'pandas.core.frame.DataFrame'>\n",
      "Int64Index: 430500 entries, 0 to 430499\n",
      "Data columns (total 21 columns):\n",
      " #   Column                   Non-Null Count   Dtype  \n",
      "---  ------                   --------------   -----  \n",
      " 0   EventDate                430500 non-null  object \n",
      " 1   EventTime                430500 non-null  object \n",
      " 2   SeisLatitude             430500 non-null  float64\n",
      " 3   SeisLongitude            430500 non-null  float64\n",
      " 4   Magnitude                430500 non-null  float64\n",
      " 5   JobStartDate             430500 non-null  object \n",
      " 6   JobEndDate               430500 non-null  object \n",
      " 7   APINumber                430500 non-null  int64  \n",
      " 8   WellName                 430500 non-null  object \n",
      " 9   OperatorName             430500 non-null  object \n",
      " 10  FracLatitude             430500 non-null  float64\n",
      " 11  FracLongitude            430500 non-null  float64\n",
      " 12  CountyName               430500 non-null  object \n",
      " 13  TVD                      430500 non-null  float64\n",
      " 14  TotalBaseWaterVolume     430500 non-null  float64\n",
      " 15  TotalBaseNonWaterVolume  430500 non-null  float64\n",
      " 16  FederalWell              430500 non-null  int64  \n",
      " 17  IngredientName           430500 non-null  object \n",
      " 18  PercentHFJob             430500 non-null  float64\n",
      " 19  MassIngredient           430500 non-null  float64\n",
      " 20  LogMag                   430500 non-null  float64\n",
      "dtypes: float64(11), int64(2), object(8)\n",
      "memory usage: 72.3+ MB\n"
     ]
    }
   ],
   "source": [
    "#view master info\n",
    "master.info()"
   ]
  },
  {
   "cell_type": "code",
   "execution_count": 7,
   "metadata": {},
   "outputs": [],
   "source": [
    "#make dataframe that will be used for modeling\n",
    "model = master[['Magnitude', 'LogMag', 'TVD', 'FederalWell', 'TotalBaseWaterVolume', 'TotalBaseNonWaterVolume',\n",
    "                    'IngredientName', 'PercentHFJob', 'MassIngredient']]"
   ]
  },
  {
   "cell_type": "code",
   "execution_count": 8,
   "metadata": {},
   "outputs": [
    {
     "name": "stdout",
     "output_type": "stream",
     "text": [
      "<class 'pandas.core.frame.DataFrame'>\n",
      "Int64Index: 430500 entries, 0 to 430499\n",
      "Data columns (total 9 columns):\n",
      " #   Column                   Non-Null Count   Dtype  \n",
      "---  ------                   --------------   -----  \n",
      " 0   Magnitude                430500 non-null  float64\n",
      " 1   LogMag                   430500 non-null  float64\n",
      " 2   TVD                      430500 non-null  float64\n",
      " 3   FederalWell              430500 non-null  int64  \n",
      " 4   TotalBaseWaterVolume     430500 non-null  float64\n",
      " 5   TotalBaseNonWaterVolume  430500 non-null  float64\n",
      " 6   IngredientName           430500 non-null  object \n",
      " 7   PercentHFJob             430500 non-null  float64\n",
      " 8   MassIngredient           430500 non-null  float64\n",
      "dtypes: float64(7), int64(1), object(1)\n",
      "memory usage: 32.8+ MB\n"
     ]
    }
   ],
   "source": [
    "#view model info\n",
    "model.info()"
   ]
  },
  {
   "cell_type": "code",
   "execution_count": 9,
   "metadata": {},
   "outputs": [],
   "source": [
    "#set correlation for dataframes\n",
    "mcorr = model.corr()"
   ]
  },
  {
   "cell_type": "code",
   "execution_count": 10,
   "metadata": {},
   "outputs": [
    {
     "data": {
      "image/png": "[encoded data removed]",
      "text/plain": [
       "<Figure size 720x720 with 2 Axes>"
      ]
     },
     "metadata": {
      "needs_background": "light"
     },
     "output_type": "display_data"
    }
   ],
   "source": [
    "#check correlations for model\n",
    "plt.figure(figsize=(10,10))\n",
    "sns.heatmap(mcorr, cmap='coolwarm', center=0, vmin=-1, vmax=1, annot=True)\n",
    "plt.show()"
   ]
  },
  {
   "cell_type": "markdown",
   "metadata": {},
   "source": [
    "Looking at the correlations for the unscaled dataset it does not appear that there is a high correlation between fracking wells and any seismic activity that occurs around them during the fracking period.\n",
    "\n",
    "I'm going to run a stats model linear regression on scaled data to get a look at the correlation coefficients and p-values to see if there is any significance between my feature variables and my target and my transformed target. "
   ]
  },
  {
   "cell_type": "markdown",
   "metadata": {},
   "source": [
    "# Stats Models"
   ]
  },
  {
   "cell_type": "code",
   "execution_count": 11,
   "metadata": {
    "scrolled": true
   },
   "outputs": [],
   "source": [
    "#set up feature and target variables for data frames\n",
    "Xm = model.drop(['Magnitude', 'LogMag', 'IngredientName'], axis = 1)\n",
    "\n",
    "ym = model['Magnitude']\n",
    "\n",
    "yml = model['LogMag']"
   ]
  },
  {
   "cell_type": "code",
   "execution_count": 12,
   "metadata": {},
   "outputs": [],
   "source": [
    "#scale the data for the stats models\n",
    "ssm = StandardScaler()\n",
    "ssm.fit(Xm)\n",
    "Xms = ssm.transform(Xm)"
   ]
  },
  {
   "cell_type": "code",
   "execution_count": 13,
   "metadata": {},
   "outputs": [],
   "source": [
    "#add constants to the X\n",
    "Xms = sm.add_constant(Xms)"
   ]
  },
  {
   "cell_type": "code",
   "execution_count": 14,
   "metadata": {},
   "outputs": [
    {
     "data": {
      "text/html": [
       "<table class=\"simpletable\">\n",
       "<caption>OLS Regression Results</caption>\n",
       "<tr>\n",
       "  <th>Dep. Variable:</th>        <td>Magnitude</td>    <th>  R-squared:         </th> <td>   0.001</td> \n",
       "</tr>\n",
       "<tr>\n",
       "  <th>Model:</th>                   <td>OLS</td>       <th>  Adj. R-squared:    </th> <td>   0.001</td> \n",
       "</tr>\n",
       "<tr>\n",
       "  <th>Method:</th>             <td>Least Squares</td>  <th>  F-statistic:       </th> <td>   86.61</td> \n",
       "</tr>\n",
       "<tr>\n",
       "  <th>Date:</th>             <td>Sat, 31 Oct 2020</td> <th>  Prob (F-statistic):</th> <td>5.62e-109</td>\n",
       "</tr>\n",
       "<tr>\n",
       "  <th>Time:</th>                 <td>21:27:24</td>     <th>  Log-Likelihood:    </th> <td> -55669.</td> \n",
       "</tr>\n",
       "<tr>\n",
       "  <th>No. Observations:</th>      <td>430500</td>      <th>  AIC:               </th> <td>1.114e+05</td>\n",
       "</tr>\n",
       "<tr>\n",
       "  <th>Df Residuals:</th>          <td>430493</td>      <th>  BIC:               </th> <td>1.114e+05</td>\n",
       "</tr>\n",
       "<tr>\n",
       "  <th>Df Model:</th>              <td>     6</td>      <th>                     </th>     <td> </td>    \n",
       "</tr>\n",
       "<tr>\n",
       "  <th>Covariance Type:</th>      <td>nonrobust</td>    <th>                     </th>     <td> </td>    \n",
       "</tr>\n",
       "</table>\n",
       "<table class=\"simpletable\">\n",
       "<tr>\n",
       "    <td></td>       <th>coef</th>     <th>std err</th>      <th>t</th>      <th>P>|t|</th>  <th>[0.025</th>    <th>0.975]</th>  \n",
       "</tr>\n",
       "<tr>\n",
       "  <th>const</th> <td>    2.7904</td> <td>    0.000</td> <td> 6648.608</td> <td> 0.000</td> <td>    2.790</td> <td>    2.791</td>\n",
       "</tr>\n",
       "<tr>\n",
       "  <th>x1</th>    <td>   -0.0018</td> <td>    0.000</td> <td>   -4.353</td> <td> 0.000</td> <td>   -0.003</td> <td>   -0.001</td>\n",
       "</tr>\n",
       "<tr>\n",
       "  <th>x2</th>    <td>   -0.0008</td> <td>    0.000</td> <td>   -1.931</td> <td> 0.053</td> <td>   -0.002</td> <td> 1.22e-05</td>\n",
       "</tr>\n",
       "<tr>\n",
       "  <th>x3</th>    <td>   -0.0092</td> <td>    0.000</td> <td>  -21.836</td> <td> 0.000</td> <td>   -0.010</td> <td>   -0.008</td>\n",
       "</tr>\n",
       "<tr>\n",
       "  <th>x4</th>    <td>   -0.0013</td> <td>    0.000</td> <td>   -3.087</td> <td> 0.002</td> <td>   -0.002</td> <td>   -0.000</td>\n",
       "</tr>\n",
       "<tr>\n",
       "  <th>x5</th>    <td>   -0.0009</td> <td>    0.000</td> <td>   -2.187</td> <td> 0.029</td> <td>   -0.002</td> <td>-9.65e-05</td>\n",
       "</tr>\n",
       "<tr>\n",
       "  <th>x6</th>    <td>   -0.0013</td> <td>    0.000</td> <td>   -2.983</td> <td> 0.003</td> <td>   -0.002</td> <td>   -0.000</td>\n",
       "</tr>\n",
       "</table>\n",
       "<table class=\"simpletable\">\n",
       "<tr>\n",
       "  <th>Omnibus:</th>       <td>172145.169</td> <th>  Durbin-Watson:     </th>  <td>   0.004</td>  \n",
       "</tr>\n",
       "<tr>\n",
       "  <th>Prob(Omnibus):</th>   <td> 0.000</td>   <th>  Jarque-Bera (JB):  </th> <td>1005543.138</td>\n",
       "</tr>\n",
       "<tr>\n",
       "  <th>Skew:</th>            <td> 1.837</td>   <th>  Prob(JB):          </th>  <td>    0.00</td>  \n",
       "</tr>\n",
       "<tr>\n",
       "  <th>Kurtosis:</th>        <td> 9.524</td>   <th>  Cond. No.          </th>  <td>    1.18</td>  \n",
       "</tr>\n",
       "</table><br/><br/>Notes:<br/>[1] Standard Errors assume that the covariance matrix of the errors is correctly specified."
      ],
      "text/plain": [
       "<class 'statsmodels.iolib.summary.Summary'>\n",
       "\"\"\"\n",
       "                            OLS Regression Results                            \n",
       "==============================================================================\n",
       "Dep. Variable:              Magnitude   R-squared:                       0.001\n",
       "Model:                            OLS   Adj. R-squared:                  0.001\n",
       "Method:                 Least Squares   F-statistic:                     86.61\n",
       "Date:                Sat, 31 Oct 2020   Prob (F-statistic):          5.62e-109\n",
       "Time:                        21:27:24   Log-Likelihood:                -55669.\n",
       "No. Observations:              430500   AIC:                         1.114e+05\n",
       "Df Residuals:                  430493   BIC:                         1.114e+05\n",
       "Df Model:                           6                                         \n",
       "Covariance Type:            nonrobust                                         \n",
       "==============================================================================\n",
       "                 coef    std err          t      P>|t|      [0.025      0.975]\n",
       "------------------------------------------------------------------------------\n",
       "const          2.7904      0.000   6648.608      0.000       2.790       2.791\n",
       "x1            -0.0018      0.000     -4.353      0.000      -0.003      -0.001\n",
       "x2            -0.0008      0.000     -1.931      0.053      -0.002    1.22e-05\n",
       "x3            -0.0092      0.000    -21.836      0.000      -0.010      -0.008\n",
       "x4            -0.0013      0.000     -3.087      0.002      -0.002      -0.000\n",
       "x5            -0.0009      0.000     -2.187      0.029      -0.002   -9.65e-05\n",
       "x6            -0.0013      0.000     -2.983      0.003      -0.002      -0.000\n",
       "==============================================================================\n",
       "Omnibus:                   172145.169   Durbin-Watson:                   0.004\n",
       "Prob(Omnibus):                  0.000   Jarque-Bera (JB):          1005543.138\n",
       "Skew:                           1.837   Prob(JB):                         0.00\n",
       "Kurtosis:                       9.524   Cond. No.                         1.18\n",
       "==============================================================================\n",
       "\n",
       "Notes:\n",
       "[1] Standard Errors assume that the covariance matrix of the errors is correctly specified.\n",
       "\"\"\""
      ]
     },
     "execution_count": 14,
     "metadata": {},
     "output_type": "execute_result"
    }
   ],
   "source": [
    "#instantiate, fit and summarize the chemicals data\n",
    "model_linear = sm.OLS(ym, Xms)\n",
    "\n",
    "model_linear_results = model_linear.fit()\n",
    "\n",
    "model_linear_results.summary()"
   ]
  },
  {
   "cell_type": "code",
   "execution_count": 15,
   "metadata": {},
   "outputs": [
    {
     "data": {
      "text/plain": [
       "Index(['TVD', 'FederalWell', 'TotalBaseWaterVolume', 'TotalBaseNonWaterVolume',\n",
       "       'PercentHFJob', 'MassIngredient'],\n",
       "      dtype='object')"
      ]
     },
     "execution_count": 15,
     "metadata": {},
     "output_type": "execute_result"
    }
   ],
   "source": [
    "#get model columns\n",
    "Xm.columns"
   ]
  },
  {
   "cell_type": "markdown",
   "metadata": {},
   "source": [
    "After running the stats linear regression model on the scaled model dataframe there are no correlation coefficients that are significant. The only p-value that is high, above the .05 significance threshold, is the FederalWell status. This model does not explain y variance very well either, still only ~1%."
   ]
  },
  {
   "cell_type": "code",
   "execution_count": 16,
   "metadata": {},
   "outputs": [
    {
     "data": {
      "text/html": [
       "<table class=\"simpletable\">\n",
       "<caption>OLS Regression Results</caption>\n",
       "<tr>\n",
       "  <th>Dep. Variable:</th>         <td>LogMag</td>      <th>  R-squared:         </th>  <td>   0.001</td> \n",
       "</tr>\n",
       "<tr>\n",
       "  <th>Model:</th>                   <td>OLS</td>       <th>  Adj. R-squared:    </th>  <td>   0.001</td> \n",
       "</tr>\n",
       "<tr>\n",
       "  <th>Method:</th>             <td>Least Squares</td>  <th>  F-statistic:       </th>  <td>   88.60</td> \n",
       "</tr>\n",
       "<tr>\n",
       "  <th>Date:</th>             <td>Sat, 31 Oct 2020</td> <th>  Prob (F-statistic):</th>  <td>1.52e-111</td>\n",
       "</tr>\n",
       "<tr>\n",
       "  <th>Time:</th>                 <td>21:27:24</td>     <th>  Log-Likelihood:    </th> <td>4.1485e+05</td>\n",
       "</tr>\n",
       "<tr>\n",
       "  <th>No. Observations:</th>      <td>430500</td>      <th>  AIC:               </th> <td>-8.297e+05</td>\n",
       "</tr>\n",
       "<tr>\n",
       "  <th>Df Residuals:</th>          <td>430493</td>      <th>  BIC:               </th> <td>-8.296e+05</td>\n",
       "</tr>\n",
       "<tr>\n",
       "  <th>Df Model:</th>              <td>     6</td>      <th>                     </th>      <td> </td>    \n",
       "</tr>\n",
       "<tr>\n",
       "  <th>Covariance Type:</th>      <td>nonrobust</td>    <th>                     </th>      <td> </td>    \n",
       "</tr>\n",
       "</table>\n",
       "<table class=\"simpletable\">\n",
       "<tr>\n",
       "    <td></td>       <th>coef</th>     <th>std err</th>      <th>t</th>      <th>P>|t|</th>  <th>[0.025</th>    <th>0.975]</th>  \n",
       "</tr>\n",
       "<tr>\n",
       "  <th>const</th> <td>    1.0217</td> <td>    0.000</td> <td> 7262.219</td> <td> 0.000</td> <td>    1.021</td> <td>    1.022</td>\n",
       "</tr>\n",
       "<tr>\n",
       "  <th>x1</th>    <td>   -0.0006</td> <td>    0.000</td> <td>   -4.330</td> <td> 0.000</td> <td>   -0.001</td> <td>   -0.000</td>\n",
       "</tr>\n",
       "<tr>\n",
       "  <th>x2</th>    <td>   -0.0002</td> <td>    0.000</td> <td>   -1.151</td> <td> 0.250</td> <td>   -0.000</td> <td>    0.000</td>\n",
       "</tr>\n",
       "<tr>\n",
       "  <th>x3</th>    <td>   -0.0031</td> <td>    0.000</td> <td>  -22.173</td> <td> 0.000</td> <td>   -0.003</td> <td>   -0.003</td>\n",
       "</tr>\n",
       "<tr>\n",
       "  <th>x4</th>    <td>   -0.0004</td> <td>    0.000</td> <td>   -2.497</td> <td> 0.013</td> <td>   -0.001</td> <td>-7.56e-05</td>\n",
       "</tr>\n",
       "<tr>\n",
       "  <th>x5</th>    <td>   -0.0003</td> <td>    0.000</td> <td>   -2.232</td> <td> 0.026</td> <td>   -0.001</td> <td>-3.87e-05</td>\n",
       "</tr>\n",
       "<tr>\n",
       "  <th>x6</th>    <td>   -0.0004</td> <td>    0.000</td> <td>   -2.936</td> <td> 0.003</td> <td>   -0.001</td> <td>   -0.000</td>\n",
       "</tr>\n",
       "</table>\n",
       "<table class=\"simpletable\">\n",
       "<tr>\n",
       "  <th>Omnibus:</th>       <td>103640.263</td> <th>  Durbin-Watson:     </th>  <td>   0.004</td> \n",
       "</tr>\n",
       "<tr>\n",
       "  <th>Prob(Omnibus):</th>   <td> 0.000</td>   <th>  Jarque-Bera (JB):  </th> <td>268815.968</td>\n",
       "</tr>\n",
       "<tr>\n",
       "  <th>Skew:</th>            <td> 1.308</td>   <th>  Prob(JB):          </th>  <td>    0.00</td> \n",
       "</tr>\n",
       "<tr>\n",
       "  <th>Kurtosis:</th>        <td> 5.853</td>   <th>  Cond. No.          </th>  <td>    1.18</td> \n",
       "</tr>\n",
       "</table><br/><br/>Notes:<br/>[1] Standard Errors assume that the covariance matrix of the errors is correctly specified."
      ],
      "text/plain": [
       "<class 'statsmodels.iolib.summary.Summary'>\n",
       "\"\"\"\n",
       "                            OLS Regression Results                            \n",
       "==============================================================================\n",
       "Dep. Variable:                 LogMag   R-squared:                       0.001\n",
       "Model:                            OLS   Adj. R-squared:                  0.001\n",
       "Method:                 Least Squares   F-statistic:                     88.60\n",
       "Date:                Sat, 31 Oct 2020   Prob (F-statistic):          1.52e-111\n",
       "Time:                        21:27:24   Log-Likelihood:             4.1485e+05\n",
       "No. Observations:              430500   AIC:                        -8.297e+05\n",
       "Df Residuals:                  430493   BIC:                        -8.296e+05\n",
       "Df Model:                           6                                         \n",
       "Covariance Type:            nonrobust                                         \n",
       "==============================================================================\n",
       "                 coef    std err          t      P>|t|      [0.025      0.975]\n",
       "------------------------------------------------------------------------------\n",
       "const          1.0217      0.000   7262.219      0.000       1.021       1.022\n",
       "x1            -0.0006      0.000     -4.330      0.000      -0.001      -0.000\n",
       "x2            -0.0002      0.000     -1.151      0.250      -0.000       0.000\n",
       "x3            -0.0031      0.000    -22.173      0.000      -0.003      -0.003\n",
       "x4            -0.0004      0.000     -2.497      0.013      -0.001   -7.56e-05\n",
       "x5            -0.0003      0.000     -2.232      0.026      -0.001   -3.87e-05\n",
       "x6            -0.0004      0.000     -2.936      0.003      -0.001      -0.000\n",
       "==============================================================================\n",
       "Omnibus:                   103640.263   Durbin-Watson:                   0.004\n",
       "Prob(Omnibus):                  0.000   Jarque-Bera (JB):           268815.968\n",
       "Skew:                           1.308   Prob(JB):                         0.00\n",
       "Kurtosis:                       5.853   Cond. No.                         1.18\n",
       "==============================================================================\n",
       "\n",
       "Notes:\n",
       "[1] Standard Errors assume that the covariance matrix of the errors is correctly specified.\n",
       "\"\"\""
      ]
     },
     "execution_count": 16,
     "metadata": {},
     "output_type": "execute_result"
    }
   ],
   "source": [
    "#instantiate, fit and summarize the model data for log magnitude\n",
    "model_linear_log = sm.OLS(yml, Xms)\n",
    "\n",
    "model_linear_log_results = model_linear_log.fit()\n",
    "\n",
    "model_linear_log_results.summary()"
   ]
  },
  {
   "cell_type": "code",
   "execution_count": 17,
   "metadata": {},
   "outputs": [
    {
     "data": {
      "text/plain": [
       "Index(['TVD', 'FederalWell', 'TotalBaseWaterVolume', 'TotalBaseNonWaterVolume',\n",
       "       'PercentHFJob', 'MassIngredient'],\n",
       "      dtype='object')"
      ]
     },
     "execution_count": 17,
     "metadata": {},
     "output_type": "execute_result"
    }
   ],
   "source": [
    "#get model columns\n",
    "Xm.columns"
   ]
  },
  {
   "cell_type": "markdown",
   "metadata": {},
   "source": [
    "After running the stats linear regression model on the scaled model dataframe and the log target variable there are still no correlation coefficients that are positively significant. The only p-value that is high, above the .05 significance threshold, is still the FederalWell status. The explanation of the y-variance from the R^2 score did not change.\n",
    "\n",
    "Transforming the target variable with the log did not change the outcomes much. When I run the rest of my models for prediction since the FederalWell status has a high p-value I will drop it from the rest of my modeling. Since the p-values for everything else seem to below the threshold for significance I will continue modeling with them when I get to the scikit models. To see if one of the features is more predictive than the others(the only one that is predicitive) I'm going to test them one by one against the target using the model data. "
   ]
  },
  {
   "cell_type": "code",
   "execution_count": 18,
   "metadata": {},
   "outputs": [],
   "source": [
    "#set single Xs\n",
    "Xmt = model['TVD']\n",
    "\n",
    "Xmw = model['TotalBaseWaterVolume']\n",
    "\n",
    "Xmn = model['TotalBaseNonWaterVolume']\n",
    "\n",
    "Xmp = model['PercentHFJob']\n",
    "\n",
    "Xmm = model['MassIngredient']"
   ]
  },
  {
   "cell_type": "code",
   "execution_count": 19,
   "metadata": {},
   "outputs": [],
   "source": [
    "#add constants to the Xs\n",
    "Xmt = sm.add_constant(Xmt)\n",
    "\n",
    "Xmw = sm.add_constant(Xmw)\n",
    "\n",
    "Xmn = sm.add_constant(Xmn)\n",
    "\n",
    "Xmp = sm.add_constant(Xmp)\n",
    "\n",
    "Xmm = sm.add_constant(Xmm)"
   ]
  },
  {
   "cell_type": "code",
   "execution_count": 20,
   "metadata": {},
   "outputs": [
    {
     "data": {
      "text/html": [
       "<table class=\"simpletable\">\n",
       "<caption>OLS Regression Results</caption>\n",
       "<tr>\n",
       "  <th>Dep. Variable:</th>        <td>Magnitude</td>    <th>  R-squared:         </th> <td>   0.000</td> \n",
       "</tr>\n",
       "<tr>\n",
       "  <th>Model:</th>                   <td>OLS</td>       <th>  Adj. R-squared:    </th> <td>   0.000</td> \n",
       "</tr>\n",
       "<tr>\n",
       "  <th>Method:</th>             <td>Least Squares</td>  <th>  F-statistic:       </th> <td>   18.63</td> \n",
       "</tr>\n",
       "<tr>\n",
       "  <th>Date:</th>             <td>Sat, 31 Oct 2020</td> <th>  Prob (F-statistic):</th> <td>1.58e-05</td> \n",
       "</tr>\n",
       "<tr>\n",
       "  <th>Time:</th>                 <td>21:27:25</td>     <th>  Log-Likelihood:    </th> <td> -55919.</td> \n",
       "</tr>\n",
       "<tr>\n",
       "  <th>No. Observations:</th>      <td>430500</td>      <th>  AIC:               </th> <td>1.118e+05</td>\n",
       "</tr>\n",
       "<tr>\n",
       "  <th>Df Residuals:</th>          <td>430498</td>      <th>  BIC:               </th> <td>1.119e+05</td>\n",
       "</tr>\n",
       "<tr>\n",
       "  <th>Df Model:</th>              <td>     1</td>      <th>                     </th>     <td> </td>    \n",
       "</tr>\n",
       "<tr>\n",
       "  <th>Covariance Type:</th>      <td>nonrobust</td>    <th>                     </th>     <td> </td>    \n",
       "</tr>\n",
       "</table>\n",
       "<table class=\"simpletable\">\n",
       "<tr>\n",
       "    <td></td>       <th>coef</th>     <th>std err</th>      <th>t</th>      <th>P>|t|</th>  <th>[0.025</th>    <th>0.975]</th>  \n",
       "</tr>\n",
       "<tr>\n",
       "  <th>const</th> <td>    2.7927</td> <td>    0.001</td> <td> 4182.363</td> <td> 0.000</td> <td>    2.791</td> <td>    2.794</td>\n",
       "</tr>\n",
       "<tr>\n",
       "  <th>TVD</th>   <td>-2.155e-07</td> <td> 4.99e-08</td> <td>   -4.317</td> <td> 0.000</td> <td>-3.13e-07</td> <td>-1.18e-07</td>\n",
       "</tr>\n",
       "</table>\n",
       "<table class=\"simpletable\">\n",
       "<tr>\n",
       "  <th>Omnibus:</th>       <td>172220.367</td> <th>  Durbin-Watson:     </th>  <td>   0.004</td>  \n",
       "</tr>\n",
       "<tr>\n",
       "  <th>Prob(Omnibus):</th>   <td> 0.000</td>   <th>  Jarque-Bera (JB):  </th> <td>1004800.242</td>\n",
       "</tr>\n",
       "<tr>\n",
       "  <th>Skew:</th>            <td> 1.839</td>   <th>  Prob(JB):          </th>  <td>    0.00</td>  \n",
       "</tr>\n",
       "<tr>\n",
       "  <th>Kurtosis:</th>        <td> 9.519</td>   <th>  Cond. No.          </th>  <td>2.13e+04</td>  \n",
       "</tr>\n",
       "</table><br/><br/>Notes:<br/>[1] Standard Errors assume that the covariance matrix of the errors is correctly specified.<br/>[2] The condition number is large, 2.13e+04. This might indicate that there are<br/>strong multicollinearity or other numerical problems."
      ],
      "text/plain": [
       "<class 'statsmodels.iolib.summary.Summary'>\n",
       "\"\"\"\n",
       "                            OLS Regression Results                            \n",
       "==============================================================================\n",
       "Dep. Variable:              Magnitude   R-squared:                       0.000\n",
       "Model:                            OLS   Adj. R-squared:                  0.000\n",
       "Method:                 Least Squares   F-statistic:                     18.63\n",
       "Date:                Sat, 31 Oct 2020   Prob (F-statistic):           1.58e-05\n",
       "Time:                        21:27:25   Log-Likelihood:                -55919.\n",
       "No. Observations:              430500   AIC:                         1.118e+05\n",
       "Df Residuals:                  430498   BIC:                         1.119e+05\n",
       "Df Model:                           1                                         \n",
       "Covariance Type:            nonrobust                                         \n",
       "==============================================================================\n",
       "                 coef    std err          t      P>|t|      [0.025      0.975]\n",
       "------------------------------------------------------------------------------\n",
       "const          2.7927      0.001   4182.363      0.000       2.791       2.794\n",
       "TVD        -2.155e-07   4.99e-08     -4.317      0.000   -3.13e-07   -1.18e-07\n",
       "==============================================================================\n",
       "Omnibus:                   172220.367   Durbin-Watson:                   0.004\n",
       "Prob(Omnibus):                  0.000   Jarque-Bera (JB):          1004800.242\n",
       "Skew:                           1.839   Prob(JB):                         0.00\n",
       "Kurtosis:                       9.519   Cond. No.                     2.13e+04\n",
       "==============================================================================\n",
       "\n",
       "Notes:\n",
       "[1] Standard Errors assume that the covariance matrix of the errors is correctly specified.\n",
       "[2] The condition number is large, 2.13e+04. This might indicate that there are\n",
       "strong multicollinearity or other numerical problems.\n",
       "\"\"\""
      ]
     },
     "execution_count": 20,
     "metadata": {},
     "output_type": "execute_result"
    }
   ],
   "source": [
    "#instantiate, fit and summarize the TVD\n",
    "tvd_linear = sm.OLS(ym, Xmt)\n",
    "\n",
    "tvd_linear_results = tvd_linear.fit()\n",
    "\n",
    "tvd_linear_results.summary()"
   ]
  },
  {
   "cell_type": "code",
   "execution_count": 21,
   "metadata": {},
   "outputs": [
    {
     "data": {
      "text/html": [
       "<table class=\"simpletable\">\n",
       "<caption>OLS Regression Results</caption>\n",
       "<tr>\n",
       "  <th>Dep. Variable:</th>        <td>Magnitude</td>    <th>  R-squared:         </th> <td>   0.001</td> \n",
       "</tr>\n",
       "<tr>\n",
       "  <th>Model:</th>                   <td>OLS</td>       <th>  Adj. R-squared:    </th> <td>   0.001</td> \n",
       "</tr>\n",
       "<tr>\n",
       "  <th>Method:</th>             <td>Least Squares</td>  <th>  F-statistic:       </th> <td>   471.4</td> \n",
       "</tr>\n",
       "<tr>\n",
       "  <th>Date:</th>             <td>Sat, 31 Oct 2020</td> <th>  Prob (F-statistic):</th> <td>1.83e-104</td>\n",
       "</tr>\n",
       "<tr>\n",
       "  <th>Time:</th>                 <td>21:27:25</td>     <th>  Log-Likelihood:    </th> <td> -55693.</td> \n",
       "</tr>\n",
       "<tr>\n",
       "  <th>No. Observations:</th>      <td>430500</td>      <th>  AIC:               </th> <td>1.114e+05</td>\n",
       "</tr>\n",
       "<tr>\n",
       "  <th>Df Residuals:</th>          <td>430498</td>      <th>  BIC:               </th> <td>1.114e+05</td>\n",
       "</tr>\n",
       "<tr>\n",
       "  <th>Df Model:</th>              <td>     1</td>      <th>                     </th>     <td> </td>    \n",
       "</tr>\n",
       "<tr>\n",
       "  <th>Covariance Type:</th>      <td>nonrobust</td>    <th>                     </th>     <td> </td>    \n",
       "</tr>\n",
       "</table>\n",
       "<table class=\"simpletable\">\n",
       "<tr>\n",
       "            <td></td>              <th>coef</th>     <th>std err</th>      <th>t</th>      <th>P>|t|</th>  <th>[0.025</th>    <th>0.975]</th>  \n",
       "</tr>\n",
       "<tr>\n",
       "  <th>const</th>                <td>    2.8078</td> <td>    0.001</td> <td> 3100.365</td> <td> 0.000</td> <td>    2.806</td> <td>    2.810</td>\n",
       "</tr>\n",
       "<tr>\n",
       "  <th>TotalBaseWaterVolume</th> <td>-9.715e-10</td> <td> 4.47e-11</td> <td>  -21.711</td> <td> 0.000</td> <td>-1.06e-09</td> <td>-8.84e-10</td>\n",
       "</tr>\n",
       "</table>\n",
       "<table class=\"simpletable\">\n",
       "<tr>\n",
       "  <th>Omnibus:</th>       <td>172216.450</td> <th>  Durbin-Watson:     </th>  <td>   0.004</td>  \n",
       "</tr>\n",
       "<tr>\n",
       "  <th>Prob(Omnibus):</th>   <td> 0.000</td>   <th>  Jarque-Bera (JB):  </th> <td>1006153.203</td>\n",
       "</tr>\n",
       "<tr>\n",
       "  <th>Skew:</th>            <td> 1.838</td>   <th>  Prob(JB):          </th>  <td>    0.00</td>  \n",
       "</tr>\n",
       "<tr>\n",
       "  <th>Kurtosis:</th>        <td> 9.525</td>   <th>  Cond. No.          </th>  <td>4.37e+07</td>  \n",
       "</tr>\n",
       "</table><br/><br/>Notes:<br/>[1] Standard Errors assume that the covariance matrix of the errors is correctly specified.<br/>[2] The condition number is large, 4.37e+07. This might indicate that there are<br/>strong multicollinearity or other numerical problems."
      ],
      "text/plain": [
       "<class 'statsmodels.iolib.summary.Summary'>\n",
       "\"\"\"\n",
       "                            OLS Regression Results                            \n",
       "==============================================================================\n",
       "Dep. Variable:              Magnitude   R-squared:                       0.001\n",
       "Model:                            OLS   Adj. R-squared:                  0.001\n",
       "Method:                 Least Squares   F-statistic:                     471.4\n",
       "Date:                Sat, 31 Oct 2020   Prob (F-statistic):          1.83e-104\n",
       "Time:                        21:27:25   Log-Likelihood:                -55693.\n",
       "No. Observations:              430500   AIC:                         1.114e+05\n",
       "Df Residuals:                  430498   BIC:                         1.114e+05\n",
       "Df Model:                           1                                         \n",
       "Covariance Type:            nonrobust                                         \n",
       "========================================================================================\n",
       "                           coef    std err          t      P>|t|      [0.025      0.975]\n",
       "----------------------------------------------------------------------------------------\n",
       "const                    2.8078      0.001   3100.365      0.000       2.806       2.810\n",
       "TotalBaseWaterVolume -9.715e-10   4.47e-11    -21.711      0.000   -1.06e-09   -8.84e-10\n",
       "==============================================================================\n",
       "Omnibus:                   172216.450   Durbin-Watson:                   0.004\n",
       "Prob(Omnibus):                  0.000   Jarque-Bera (JB):          1006153.203\n",
       "Skew:                           1.838   Prob(JB):                         0.00\n",
       "Kurtosis:                       9.525   Cond. No.                     4.37e+07\n",
       "==============================================================================\n",
       "\n",
       "Notes:\n",
       "[1] Standard Errors assume that the covariance matrix of the errors is correctly specified.\n",
       "[2] The condition number is large, 4.37e+07. This might indicate that there are\n",
       "strong multicollinearity or other numerical problems.\n",
       "\"\"\""
      ]
     },
     "execution_count": 21,
     "metadata": {},
     "output_type": "execute_result"
    }
   ],
   "source": [
    "#instantiate, fit and summarize the TotalBaseWaterVolume\n",
    "tbwv_linear = sm.OLS(ym, Xmw)\n",
    "\n",
    "tbwv_linear_results = tbwv_linear.fit()\n",
    "\n",
    "tbwv_linear_results.summary()"
   ]
  },
  {
   "cell_type": "code",
   "execution_count": 22,
   "metadata": {},
   "outputs": [
    {
     "data": {
      "text/html": [
       "<table class=\"simpletable\">\n",
       "<caption>OLS Regression Results</caption>\n",
       "<tr>\n",
       "  <th>Dep. Variable:</th>        <td>Magnitude</td>    <th>  R-squared:         </th> <td>   0.000</td> \n",
       "</tr>\n",
       "<tr>\n",
       "  <th>Model:</th>                   <td>OLS</td>       <th>  Adj. R-squared:    </th> <td>   0.000</td> \n",
       "</tr>\n",
       "<tr>\n",
       "  <th>Method:</th>             <td>Least Squares</td>  <th>  F-statistic:       </th> <td>   4.956</td> \n",
       "</tr>\n",
       "<tr>\n",
       "  <th>Date:</th>             <td>Sat, 31 Oct 2020</td> <th>  Prob (F-statistic):</th>  <td>0.0260</td>  \n",
       "</tr>\n",
       "<tr>\n",
       "  <th>Time:</th>                 <td>21:27:26</td>     <th>  Log-Likelihood:    </th> <td> -55926.</td> \n",
       "</tr>\n",
       "<tr>\n",
       "  <th>No. Observations:</th>      <td>430500</td>      <th>  AIC:               </th> <td>1.119e+05</td>\n",
       "</tr>\n",
       "<tr>\n",
       "  <th>Df Residuals:</th>          <td>430498</td>      <th>  BIC:               </th> <td>1.119e+05</td>\n",
       "</tr>\n",
       "<tr>\n",
       "  <th>Df Model:</th>              <td>     1</td>      <th>                     </th>     <td> </td>    \n",
       "</tr>\n",
       "<tr>\n",
       "  <th>Covariance Type:</th>      <td>nonrobust</td>    <th>                     </th>     <td> </td>    \n",
       "</tr>\n",
       "</table>\n",
       "<table class=\"simpletable\">\n",
       "<tr>\n",
       "             <td></td>                <th>coef</th>     <th>std err</th>      <th>t</th>      <th>P>|t|</th>  <th>[0.025</th>    <th>0.975]</th>  \n",
       "</tr>\n",
       "<tr>\n",
       "  <th>const</th>                   <td>    2.7905</td> <td>    0.000</td> <td> 6628.228</td> <td> 0.000</td> <td>    2.790</td> <td>    2.791</td>\n",
       "</tr>\n",
       "<tr>\n",
       "  <th>TotalBaseNonWaterVolume</th> <td>-1.217e-09</td> <td> 5.47e-10</td> <td>   -2.226</td> <td> 0.026</td> <td>-2.29e-09</td> <td>-1.46e-10</td>\n",
       "</tr>\n",
       "</table>\n",
       "<table class=\"simpletable\">\n",
       "<tr>\n",
       "  <th>Omnibus:</th>       <td>172210.343</td> <th>  Durbin-Watson:     </th>  <td>   0.004</td>  \n",
       "</tr>\n",
       "<tr>\n",
       "  <th>Prob(Omnibus):</th>   <td> 0.000</td>   <th>  Jarque-Bera (JB):  </th> <td>1004561.028</td>\n",
       "</tr>\n",
       "<tr>\n",
       "  <th>Skew:</th>            <td> 1.839</td>   <th>  Prob(JB):          </th>  <td>    0.00</td>  \n",
       "</tr>\n",
       "<tr>\n",
       "  <th>Kurtosis:</th>        <td> 9.518</td>   <th>  Cond. No.          </th>  <td>7.72e+05</td>  \n",
       "</tr>\n",
       "</table><br/><br/>Notes:<br/>[1] Standard Errors assume that the covariance matrix of the errors is correctly specified.<br/>[2] The condition number is large, 7.72e+05. This might indicate that there are<br/>strong multicollinearity or other numerical problems."
      ],
      "text/plain": [
       "<class 'statsmodels.iolib.summary.Summary'>\n",
       "\"\"\"\n",
       "                            OLS Regression Results                            \n",
       "==============================================================================\n",
       "Dep. Variable:              Magnitude   R-squared:                       0.000\n",
       "Model:                            OLS   Adj. R-squared:                  0.000\n",
       "Method:                 Least Squares   F-statistic:                     4.956\n",
       "Date:                Sat, 31 Oct 2020   Prob (F-statistic):             0.0260\n",
       "Time:                        21:27:26   Log-Likelihood:                -55926.\n",
       "No. Observations:              430500   AIC:                         1.119e+05\n",
       "Df Residuals:                  430498   BIC:                         1.119e+05\n",
       "Df Model:                           1                                         \n",
       "Covariance Type:            nonrobust                                         \n",
       "===========================================================================================\n",
       "                              coef    std err          t      P>|t|      [0.025      0.975]\n",
       "-------------------------------------------------------------------------------------------\n",
       "const                       2.7905      0.000   6628.228      0.000       2.790       2.791\n",
       "TotalBaseNonWaterVolume -1.217e-09   5.47e-10     -2.226      0.026   -2.29e-09   -1.46e-10\n",
       "==============================================================================\n",
       "Omnibus:                   172210.343   Durbin-Watson:                   0.004\n",
       "Prob(Omnibus):                  0.000   Jarque-Bera (JB):          1004561.028\n",
       "Skew:                           1.839   Prob(JB):                         0.00\n",
       "Kurtosis:                       9.518   Cond. No.                     7.72e+05\n",
       "==============================================================================\n",
       "\n",
       "Notes:\n",
       "[1] Standard Errors assume that the covariance matrix of the errors is correctly specified.\n",
       "[2] The condition number is large, 7.72e+05. This might indicate that there are\n",
       "strong multicollinearity or other numerical problems.\n",
       "\"\"\""
      ]
     },
     "execution_count": 22,
     "metadata": {},
     "output_type": "execute_result"
    }
   ],
   "source": [
    "#instantiate, fit and summarize the TotalBaseNonWaterVolume\n",
    "tbnwv_linear = sm.OLS(ym, Xmn)\n",
    "\n",
    "tbnwv_linear_results = tbnwv_linear.fit()\n",
    "\n",
    "tbnwv_linear_results.summary()"
   ]
  },
  {
   "cell_type": "code",
   "execution_count": 23,
   "metadata": {},
   "outputs": [
    {
     "data": {
      "text/html": [
       "<table class=\"simpletable\">\n",
       "<caption>OLS Regression Results</caption>\n",
       "<tr>\n",
       "  <th>Dep. Variable:</th>        <td>Magnitude</td>    <th>  R-squared:         </th> <td>   0.000</td> \n",
       "</tr>\n",
       "<tr>\n",
       "  <th>Model:</th>                   <td>OLS</td>       <th>  Adj. R-squared:    </th> <td>   0.000</td> \n",
       "</tr>\n",
       "<tr>\n",
       "  <th>Method:</th>             <td>Least Squares</td>  <th>  F-statistic:       </th> <td>   6.519</td> \n",
       "</tr>\n",
       "<tr>\n",
       "  <th>Date:</th>             <td>Sat, 31 Oct 2020</td> <th>  Prob (F-statistic):</th>  <td>0.0107</td>  \n",
       "</tr>\n",
       "<tr>\n",
       "  <th>Time:</th>                 <td>21:27:26</td>     <th>  Log-Likelihood:    </th> <td> -55925.</td> \n",
       "</tr>\n",
       "<tr>\n",
       "  <th>No. Observations:</th>      <td>430500</td>      <th>  AIC:               </th> <td>1.119e+05</td>\n",
       "</tr>\n",
       "<tr>\n",
       "  <th>Df Residuals:</th>          <td>430498</td>      <th>  BIC:               </th> <td>1.119e+05</td>\n",
       "</tr>\n",
       "<tr>\n",
       "  <th>Df Model:</th>              <td>     1</td>      <th>                     </th>     <td> </td>    \n",
       "</tr>\n",
       "<tr>\n",
       "  <th>Covariance Type:</th>      <td>nonrobust</td>    <th>                     </th>     <td> </td>    \n",
       "</tr>\n",
       "</table>\n",
       "<table class=\"simpletable\">\n",
       "<tr>\n",
       "        <td></td>          <th>coef</th>     <th>std err</th>      <th>t</th>      <th>P>|t|</th>  <th>[0.025</th>    <th>0.975]</th>  \n",
       "</tr>\n",
       "<tr>\n",
       "  <th>const</th>        <td>    2.7907</td> <td>    0.000</td> <td> 6362.730</td> <td> 0.000</td> <td>    2.790</td> <td>    2.792</td>\n",
       "</tr>\n",
       "<tr>\n",
       "  <th>PercentHFJob</th> <td>-4.626e-05</td> <td> 1.81e-05</td> <td>   -2.553</td> <td> 0.011</td> <td>-8.18e-05</td> <td>-1.07e-05</td>\n",
       "</tr>\n",
       "</table>\n",
       "<table class=\"simpletable\">\n",
       "<tr>\n",
       "  <th>Omnibus:</th>       <td>172233.687</td> <th>  Durbin-Watson:     </th>  <td>   0.004</td>  \n",
       "</tr>\n",
       "<tr>\n",
       "  <th>Prob(Omnibus):</th>   <td> 0.000</td>   <th>  Jarque-Bera (JB):  </th> <td>1004890.492</td>\n",
       "</tr>\n",
       "<tr>\n",
       "  <th>Skew:</th>            <td> 1.839</td>   <th>  Prob(JB):          </th>  <td>    0.00</td>  \n",
       "</tr>\n",
       "<tr>\n",
       "  <th>Kurtosis:</th>        <td> 9.519</td>   <th>  Cond. No.          </th>  <td>    25.3</td>  \n",
       "</tr>\n",
       "</table><br/><br/>Notes:<br/>[1] Standard Errors assume that the covariance matrix of the errors is correctly specified."
      ],
      "text/plain": [
       "<class 'statsmodels.iolib.summary.Summary'>\n",
       "\"\"\"\n",
       "                            OLS Regression Results                            \n",
       "==============================================================================\n",
       "Dep. Variable:              Magnitude   R-squared:                       0.000\n",
       "Model:                            OLS   Adj. R-squared:                  0.000\n",
       "Method:                 Least Squares   F-statistic:                     6.519\n",
       "Date:                Sat, 31 Oct 2020   Prob (F-statistic):             0.0107\n",
       "Time:                        21:27:26   Log-Likelihood:                -55925.\n",
       "No. Observations:              430500   AIC:                         1.119e+05\n",
       "Df Residuals:                  430498   BIC:                         1.119e+05\n",
       "Df Model:                           1                                         \n",
       "Covariance Type:            nonrobust                                         \n",
       "================================================================================\n",
       "                   coef    std err          t      P>|t|      [0.025      0.975]\n",
       "--------------------------------------------------------------------------------\n",
       "const            2.7907      0.000   6362.730      0.000       2.790       2.792\n",
       "PercentHFJob -4.626e-05   1.81e-05     -2.553      0.011   -8.18e-05   -1.07e-05\n",
       "==============================================================================\n",
       "Omnibus:                   172233.687   Durbin-Watson:                   0.004\n",
       "Prob(Omnibus):                  0.000   Jarque-Bera (JB):          1004890.492\n",
       "Skew:                           1.839   Prob(JB):                         0.00\n",
       "Kurtosis:                       9.519   Cond. No.                         25.3\n",
       "==============================================================================\n",
       "\n",
       "Notes:\n",
       "[1] Standard Errors assume that the covariance matrix of the errors is correctly specified.\n",
       "\"\"\""
      ]
     },
     "execution_count": 23,
     "metadata": {},
     "output_type": "execute_result"
    }
   ],
   "source": [
    "#instantiate, fit and summarize the PercentHFJob\n",
    "phfj_linear = sm.OLS(ym, Xmp)\n",
    "\n",
    "phfj_linear_results = phfj_linear.fit()\n",
    "\n",
    "phfj_linear_results.summary()"
   ]
  },
  {
   "cell_type": "code",
   "execution_count": 24,
   "metadata": {},
   "outputs": [
    {
     "data": {
      "text/html": [
       "<table class=\"simpletable\">\n",
       "<caption>OLS Regression Results</caption>\n",
       "<tr>\n",
       "  <th>Dep. Variable:</th>        <td>Magnitude</td>    <th>  R-squared:         </th> <td>   0.000</td> \n",
       "</tr>\n",
       "<tr>\n",
       "  <th>Model:</th>                   <td>OLS</td>       <th>  Adj. R-squared:    </th> <td>   0.000</td> \n",
       "</tr>\n",
       "<tr>\n",
       "  <th>Method:</th>             <td>Least Squares</td>  <th>  F-statistic:       </th> <td>   15.07</td> \n",
       "</tr>\n",
       "<tr>\n",
       "  <th>Date:</th>             <td>Sat, 31 Oct 2020</td> <th>  Prob (F-statistic):</th> <td>0.000103</td> \n",
       "</tr>\n",
       "<tr>\n",
       "  <th>Time:</th>                 <td>21:27:27</td>     <th>  Log-Likelihood:    </th> <td> -55921.</td> \n",
       "</tr>\n",
       "<tr>\n",
       "  <th>No. Observations:</th>      <td>430500</td>      <th>  AIC:               </th> <td>1.118e+05</td>\n",
       "</tr>\n",
       "<tr>\n",
       "  <th>Df Residuals:</th>          <td>430498</td>      <th>  BIC:               </th> <td>1.119e+05</td>\n",
       "</tr>\n",
       "<tr>\n",
       "  <th>Df Model:</th>              <td>     1</td>      <th>                     </th>     <td> </td>    \n",
       "</tr>\n",
       "<tr>\n",
       "  <th>Covariance Type:</th>      <td>nonrobust</td>    <th>                     </th>     <td> </td>    \n",
       "</tr>\n",
       "</table>\n",
       "<table class=\"simpletable\">\n",
       "<tr>\n",
       "         <td></td>           <th>coef</th>     <th>std err</th>      <th>t</th>      <th>P>|t|</th>  <th>[0.025</th>    <th>0.975]</th>  \n",
       "</tr>\n",
       "<tr>\n",
       "  <th>const</th>          <td>    2.7905</td> <td>    0.000</td> <td> 6637.733</td> <td> 0.000</td> <td>    2.790</td> <td>    2.791</td>\n",
       "</tr>\n",
       "<tr>\n",
       "  <th>MassIngredient</th> <td>-3.057e-12</td> <td> 7.87e-13</td> <td>   -3.882</td> <td> 0.000</td> <td> -4.6e-12</td> <td>-1.51e-12</td>\n",
       "</tr>\n",
       "</table>\n",
       "<table class=\"simpletable\">\n",
       "<tr>\n",
       "  <th>Omnibus:</th>       <td>172220.781</td> <th>  Durbin-Watson:     </th>  <td>   0.004</td>  \n",
       "</tr>\n",
       "<tr>\n",
       "  <th>Prob(Omnibus):</th>   <td> 0.000</td>   <th>  Jarque-Bera (JB):  </th> <td>1004674.413</td>\n",
       "</tr>\n",
       "<tr>\n",
       "  <th>Skew:</th>            <td> 1.839</td>   <th>  Prob(JB):          </th>  <td>    0.00</td>  \n",
       "</tr>\n",
       "<tr>\n",
       "  <th>Kurtosis:</th>        <td> 9.518</td>   <th>  Cond. No.          </th>  <td>5.34e+08</td>  \n",
       "</tr>\n",
       "</table><br/><br/>Notes:<br/>[1] Standard Errors assume that the covariance matrix of the errors is correctly specified.<br/>[2] The condition number is large, 5.34e+08. This might indicate that there are<br/>strong multicollinearity or other numerical problems."
      ],
      "text/plain": [
       "<class 'statsmodels.iolib.summary.Summary'>\n",
       "\"\"\"\n",
       "                            OLS Regression Results                            \n",
       "==============================================================================\n",
       "Dep. Variable:              Magnitude   R-squared:                       0.000\n",
       "Model:                            OLS   Adj. R-squared:                  0.000\n",
       "Method:                 Least Squares   F-statistic:                     15.07\n",
       "Date:                Sat, 31 Oct 2020   Prob (F-statistic):           0.000103\n",
       "Time:                        21:27:27   Log-Likelihood:                -55921.\n",
       "No. Observations:              430500   AIC:                         1.118e+05\n",
       "Df Residuals:                  430498   BIC:                         1.119e+05\n",
       "Df Model:                           1                                         \n",
       "Covariance Type:            nonrobust                                         \n",
       "==================================================================================\n",
       "                     coef    std err          t      P>|t|      [0.025      0.975]\n",
       "----------------------------------------------------------------------------------\n",
       "const              2.7905      0.000   6637.733      0.000       2.790       2.791\n",
       "MassIngredient -3.057e-12   7.87e-13     -3.882      0.000    -4.6e-12   -1.51e-12\n",
       "==============================================================================\n",
       "Omnibus:                   172220.781   Durbin-Watson:                   0.004\n",
       "Prob(Omnibus):                  0.000   Jarque-Bera (JB):          1004674.413\n",
       "Skew:                           1.839   Prob(JB):                         0.00\n",
       "Kurtosis:                       9.518   Cond. No.                     5.34e+08\n",
       "==============================================================================\n",
       "\n",
       "Notes:\n",
       "[1] Standard Errors assume that the covariance matrix of the errors is correctly specified.\n",
       "[2] The condition number is large, 5.34e+08. This might indicate that there are\n",
       "strong multicollinearity or other numerical problems.\n",
       "\"\"\""
      ]
     },
     "execution_count": 24,
     "metadata": {},
     "output_type": "execute_result"
    }
   ],
   "source": [
    "#instantiate, fit and summarize the MassIngredient\n",
    "mi_linear = sm.OLS(ym, Xmm)\n",
    "\n",
    "mi_linear_results = mi_linear.fit()\n",
    "\n",
    "mi_linear_results.summary()"
   ]
  },
  {
   "cell_type": "markdown",
   "metadata": {},
   "source": [
    "After running the feature variables separately against target it would appear the feature that matters the most is the  TotalBaseWaterVolume, which is the total gallons of water pumped down the well in the carrier fluid during the frac job. "
   ]
  },
  {
   "cell_type": "markdown",
   "metadata": {},
   "source": [
    "# Scikit Models"
   ]
  },
  {
   "cell_type": "markdown",
   "metadata": {},
   "source": [
    "I'm going to use some regression models from scikit learn, since my target is a continous variable, to look at other predictive models."
   ]
  },
  {
   "cell_type": "code",
   "execution_count": 25,
   "metadata": {},
   "outputs": [],
   "source": [
    "#set X and y for modeling\n",
    "X = model.drop(['Magnitude', 'LogMag', 'FederalWell'], axis = 1)\n",
    "\n",
    "y = model['Magnitude']"
   ]
  },
  {
   "cell_type": "markdown",
   "metadata": {},
   "source": [
    "I have only done one split here since I will be running a grid search. During the grid search a validation set is automatically created as needed. I will one hot encode my categorical column, IngredientName, to prevent bias and leakage after the split. After OHE I will drop the original IngredientName column. "
   ]
  },
  {
   "cell_type": "code",
   "execution_count": 26,
   "metadata": {},
   "outputs": [],
   "source": [
    "#train/validation split target magnitude\n",
    "X_train, X_test, y_train, y_test = train_test_split(X, y, test_size = 0.25, stratify = y, random_state = 4)"
   ]
  },
  {
   "cell_type": "code",
   "execution_count": 27,
   "metadata": {},
   "outputs": [
    {
     "name": "stdout",
     "output_type": "stream",
     "text": [
      "(322875, 6)\n",
      "(107625, 6)\n"
     ]
    }
   ],
   "source": [
    "#check shapes\n",
    "print(X_train.shape)\n",
    "print(X_test.shape)"
   ]
  },
  {
   "cell_type": "code",
   "execution_count": 28,
   "metadata": {},
   "outputs": [],
   "source": [
    "#instantiate the encoder\n",
    "ohe = OneHotEncoder(sparse = False)\n",
    "#fit the encoder and transform\n",
    "IngredientTrain = pd.DataFrame(X_train['IngredientName'])\n",
    "IngredientTrain = ohe.fit_transform(IngredientTrain)\n",
    "IngredientTest = pd.DataFrame(X_test['IngredientName'])\n",
    "IngredientTest = ohe.transform(IngredientTest)"
   ]
  },
  {
   "cell_type": "code",
   "execution_count": 29,
   "metadata": {},
   "outputs": [],
   "source": [
    "#put dense array into new df and get column names\n",
    "IngredientTrain = pd.DataFrame(IngredientTrain, columns = (ohe.categories_), dtype = np.int8)"
   ]
  },
  {
   "cell_type": "code",
   "execution_count": 30,
   "metadata": {},
   "outputs": [],
   "source": [
    "#reset the train index\n",
    "X_train.reset_index(drop = True, inplace = True)"
   ]
  },
  {
   "cell_type": "code",
   "execution_count": 31,
   "metadata": {},
   "outputs": [],
   "source": [
    "#put together the train data with the ingredient ohe\n",
    "X_train = pd.concat([X_train, IngredientTrain], axis = 1).reset_index(drop = True)"
   ]
  },
  {
   "cell_type": "code",
   "execution_count": 32,
   "metadata": {},
   "outputs": [],
   "source": [
    "#drop the original ingredient column\n",
    "X_train.drop(['IngredientName'], axis = 1, inplace = True)"
   ]
  },
  {
   "cell_type": "code",
   "execution_count": 33,
   "metadata": {
    "scrolled": true
   },
   "outputs": [],
   "source": [
    "#put dense array into new df and get column names\n",
    "IngredientTest = pd.DataFrame(IngredientTest, columns = (ohe.categories_), dtype = np.int8)"
   ]
  },
  {
   "cell_type": "code",
   "execution_count": 34,
   "metadata": {},
   "outputs": [],
   "source": [
    "#reset the test index\n",
    "X_test.reset_index(drop = True, inplace = True)"
   ]
  },
  {
   "cell_type": "code",
   "execution_count": 35,
   "metadata": {},
   "outputs": [],
   "source": [
    "#put together the test data with the ingredient ohe\n",
    "X_test = pd.concat([X_test, IngredientTest], axis = 1).reset_index(drop = True)"
   ]
  },
  {
   "cell_type": "code",
   "execution_count": 36,
   "metadata": {},
   "outputs": [],
   "source": [
    "#drop the original ingredient column\n",
    "X_test.drop(['IngredientName'], axis = 1, inplace = True)"
   ]
  },
  {
   "cell_type": "markdown",
   "metadata": {},
   "source": [
    "In order to figure out which non-linear regression model is the best for this set of data I'm going to set up a  pipeline/grid search to go over 2 different models, Ridge Regression and Decision Tree Regressor, and various parameters using 5 folds. "
   ]
  },
  {
   "cell_type": "code",
   "execution_count": 37,
   "metadata": {},
   "outputs": [],
   "source": [
    "#set up a pipeline for the grid search to find the best scale and model\n",
    "estimators = [('scale', StandardScaler()),\n",
    "             ('model', Ridge())]\n",
    "\n",
    "pipe = Pipeline(estimators)"
   ]
  },
  {
   "cell_type": "code",
   "execution_count": 38,
   "metadata": {},
   "outputs": [],
   "source": [
    "#set up the grid\n",
    "param_grid = [\n",
    "    {'model': [Ridge()],\n",
    "    'scale': [StandardScaler()],\n",
    "    'model__alpha': [0.01, 0.1, 1, 10]},\n",
    "    {'model': [DecisionTreeRegressor()],\n",
    "    'scale': [StandardScaler()],\n",
    "    'model__max_depth': list(range(1,int(np.sqrt(len(X_train))),5))}]"
   ]
  },
  {
   "cell_type": "code",
   "execution_count": 39,
   "metadata": {},
   "outputs": [
    {
     "name": "stdout",
     "output_type": "stream",
     "text": [
      "Fitting 5 folds for each of 118 candidates, totalling 590 fits\n"
     ]
    },
    {
     "name": "stderr",
     "output_type": "stream",
     "text": [
      "[Parallel(n_jobs=-1)]: Using backend LokyBackend with 8 concurrent workers.\n",
      "[Parallel(n_jobs=-1)]: Done  34 tasks      | elapsed:   57.6s\n",
      "[Parallel(n_jobs=-1)]: Done 184 tasks      | elapsed: 10.9min\n",
      "[Parallel(n_jobs=-1)]: Done 434 tasks      | elapsed: 27.6min\n",
      "[Parallel(n_jobs=-1)]: Done 590 out of 590 | elapsed: 37.3min finished\n"
     ]
    },
    {
     "name": "stdout",
     "output_type": "stream",
     "text": [
      "CPU times: user 13.7 s, sys: 2.54 s, total: 16.2 s\n",
      "Wall time: 37min 32s\n"
     ]
    }
   ],
   "source": [
    "%%time\n",
    "#create grid and fit\n",
    "grid = GridSearchCV(pipe, param_grid = param_grid, cv=5, n_jobs=-1, verbose=1)\n",
    "\n",
    "fitted_grid = grid.fit(X_train, y_train)"
   ]
  },
  {
   "cell_type": "code",
   "execution_count": 40,
   "metadata": {},
   "outputs": [
    {
     "data": {
      "text/plain": [
       "Pipeline(steps=[('scale', StandardScaler()),\n",
       "                ('model', DecisionTreeRegressor(max_depth=16))])"
      ]
     },
     "execution_count": 40,
     "metadata": {},
     "output_type": "execute_result"
    }
   ],
   "source": [
    "#check the best model\n",
    "fitted_grid.best_estimator_"
   ]
  },
  {
   "cell_type": "code",
   "execution_count": 41,
   "metadata": {},
   "outputs": [
    {
     "name": "stdout",
     "output_type": "stream",
     "text": [
      "0.17680959711720157\n",
      "0.12029069430261297\n"
     ]
    }
   ],
   "source": [
    "#score the best model\n",
    "print(fitted_grid.score(X_train,y_train))\n",
    "print(fitted_grid.score(X_test,y_test))"
   ]
  },
  {
   "cell_type": "markdown",
   "metadata": {},
   "source": [
    "After testing sci-kit learning models to determine the best non-linear regression model that would fit the data the Decision Tree was found to be the better model. It improved the R^2 score to 12% on the test set, so it can explain the y-variance  a little better than the linear stats model. There is still quite a lot of seismic activity that cannot be explained by these features. They need to be adjusted to get better at predicting the relationship between seismic activity occurring in the area while a well is being fracked."
   ]
  }
 ],
 "metadata": {
  "kernelspec": {
   "display_name": "Python 3",
   "language": "python",
   "name": "python3"
  },
  "language_info": {
   "codemirror_mode": {
    "name": "ipython",
    "version": 3
   },
   "file_extension": ".py",
   "mimetype": "text/x-python",
   "name": "python",
   "nbconvert_exporter": "python",
   "pygments_lexer": "ipython3",
   "version": "3.8.3"
  }
 },
 "nbformat": 4,
 "nbformat_minor": 4
}
